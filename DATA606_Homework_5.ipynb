{
  "nbformat": 4,
  "nbformat_minor": 0,
  "metadata": {
    "colab": {
      "provenance": []
    },
    "kernelspec": {
      "name": "python3",
      "display_name": "Python 3"
    },
    "language_info": {
      "name": "python"
    }
  },
  "cells": [
    {
      "cell_type": "markdown",
      "source": [
        "## Grading: 2 points for each question"
      ],
      "metadata": {
        "id": "ZwqJVC-hp4Nr"
      }
    },
    {
      "cell_type": "code",
      "execution_count": 9,
      "metadata": {
        "id": "cwA_IhbepyCI"
      },
      "outputs": [],
      "source": [
        "## Question 1\n",
        "\n",
        "# What is the following code doing and what is its time complexity ?\n",
        "\n",
        "def doSomething(n):\n",
        "  j=1\n",
        "  while(j*j <= n):\n",
        "    if j*j == n:\n",
        "      return j\n",
        "    else:\n",
        "      j+=1\n",
        "  return -1\n"
      ]
    },
    {
      "cell_type": "markdown",
      "source": [
        "# Answer 1\n",
        "\n",
        "This code finds the square root of a number n, only if it has an integer square root, else it returns -1.\n",
        "\n",
        "The time complexity of this code is $O(\\sqrt{n})$"
      ],
      "metadata": {
        "id": "tgsMC27FCUUp"
      }
    },
    {
      "cell_type": "code",
      "source": [
        "## Question 2\n",
        "\n",
        "# What is the following code doing and what is its time complexity ?\n",
        "\n",
        "def doSomething(n,m):\n",
        "  if m <= 0:\n",
        "    return -1\n",
        "  j = n // m\n",
        "  return n-j*m\n",
        "\n",
        "# n is a natural number and m is an integer. \n"
      ],
      "metadata": {
        "id": "bYq3ZY83xTPP"
      },
      "execution_count": null,
      "outputs": []
    },
    {
      "cell_type": "markdown",
      "source": [
        "# Answer 2\n",
        "\n",
        "This code finds the remainder on dividing a natural number n with an integer n. If the integer is negative, it returns -1.\n",
        "\n",
        "The time complexity of this code is $O(1)$"
      ],
      "metadata": {
        "id": "Mj2edVvCDHQC"
      }
    },
    {
      "cell_type": "code",
      "source": [
        "## Question 3\n",
        "\n",
        "# What is the following code doing and what is its time complexity ?\n",
        "\n",
        "def doSomething(n):\n",
        "  j=0\n",
        "  while(n>0):\n",
        "    j+=n%10\n",
        "    n//=10\n",
        "  return j\n",
        "\n"
      ],
      "metadata": {
        "id": "OqORpYl1Q-hV"
      },
      "execution_count": null,
      "outputs": []
    },
    {
      "cell_type": "markdown",
      "source": [
        "# Answer 3\n",
        "\n",
        "This code finds the sum of digits of a number n.\n",
        "\n",
        "The time complexity of this code is $O(log_{10}(n))$"
      ],
      "metadata": {
        "id": "Po6-IPJzDwj8"
      }
    },
    {
      "cell_type": "code",
      "source": [
        "## Question 4\n",
        "\n",
        "# What is the following code doing and what is its time complexity ?\n",
        "\n",
        "def doSomething(n,m):\n",
        "  if m < 0:\n",
        "    return 0\n",
        "  elif m == 0:\n",
        "    return 1\n",
        "  else:\n",
        "    return n*doSomething(n, m-1)\n",
        "\n",
        "\n"
      ],
      "metadata": {
        "id": "aH4zzM1BRr03"
      },
      "execution_count": 2,
      "outputs": []
    },
    {
      "cell_type": "markdown",
      "source": [
        "# Answer 4\n",
        "\n",
        "This code is a recursive function to find $n^m$ if m is positive. It returns 0, if m is negative.\n",
        "\n",
        "The time complexity of this code is $O(m)$"
      ],
      "metadata": {
        "id": "4yQfDo0FFTG8"
      }
    }
  ]
}
